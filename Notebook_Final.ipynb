{
 "cells": [
  {
   "cell_type": "code",
   "execution_count": 4,
   "metadata": {},
   "outputs": [],
   "source": [
    "import pandas as pd\n",
    "import numpy as np\n",
    "from geopy.distance import distance as geo_dist\n",
    "import datetime\n",
    "import time\n",
    "import matplotlib.pyplot as plt\n",
    "import scipy.stats as st\n",
    "import os\n",
    "\n",
    "from tqdm import tqdm"
   ]
  },
  {
   "cell_type": "markdown",
   "metadata": {},
   "source": [
    "# DS Lab - Final Assignment: Robust Journey Planning\n",
    "\n",
    "## Table of contents:\n",
    "- ### [Preprocessing](#preprocessing)\n",
    "    - #### [Zürich stops selection.](#zurich_stop_selection)\n",
    "    - #### [Data cleaining.](#data_cleaning)\n",
    "    - #### [Creation of connections between stations.](#creation_connection)\n",
    "- ### [Delay estimation](#delay_estimation)\n",
    "    - #### [Computation.](#delay_computation)\n",
    "    - #### [Visualization.](#delay_visualization)\n",
    "- ### [CSA](#csa)\n",
    "    - #### [Algorithm](#csa_algorithm)\n",
    "    - #### [Results](#csa_results)"
   ]
  },
  {
   "cell_type": "markdown",
   "metadata": {},
   "source": [
    "<a id=\"preprocessing\"></a>\n",
    "## Preprocessing"
   ]
  },
  {
   "cell_type": "markdown",
   "metadata": {},
   "source": [
    "<a id=\"zurich_stop_selection\"></a>\n",
    "### Zürich stops selection"
   ]
  },
  {
   "cell_type": "markdown",
   "metadata": {},
   "source": [
    "Below, we extract the stations from the metadata file and compute their distance to Zürich HB. \n",
    "Each data files are then filtered and only contain station at a distance lower than 10 km to Zürich HB."
   ]
  },
  {
   "cell_type": "code",
   "execution_count": null,
   "metadata": {},
   "outputs": [],
   "source": [
    "# Extract list of stop from metadata file.\n",
    "with open(\"data/BFKOORD_GEO\") as file:\n",
    "    metadata = file.readlines()\n",
    "    \n",
    "metadata_cleaned = [line.split(\"%\") for line in metadata]\n",
    "metadata_cleaned = [[line[0].split(), line[1][1:-1]] for line in  metadata_cleaned]\n",
    "metadata_cleaned = [[line[0][0], line[0][1], line[0][2], line[0][3], line[1]] for line in metadata_cleaned]\n",
    "\n",
    "metadata_df = pd.DataFrame(metadata_cleaned, columns=[\"StationID\", \"Longitude\", \"Latitude\", \"Height\", \"Remark\"])\n",
    "\n",
    "metadata_df[\"Longitude\"] = pd.to_numeric(metadata_df[\"Longitude\"])\n",
    "metadata_df[\"Latitude\"] = pd.to_numeric(metadata_df[\"Latitude\"])"
   ]
  },
  {
   "cell_type": "code",
   "execution_count": null,
   "metadata": {},
   "outputs": [],
   "source": [
    "# Retrieve stops near Zurich main station\n",
    "zurichHB = metadata_df[metadata_df.Remark == \"Zürich HB\"]\n",
    "\n",
    "metadata_df[\"dist\"] = metadata_df.apply(lambda x: geo_dist((zurichHB.Latitude.values[0], zurichHB.Longitude.values[0]),\n",
    "                                                            (x.Latitude, x.Longitude)).km, axis=1)\n",
    "zurich_stops_df = metadata_df[metadata_df[\"dist\"] < 10]\n",
    "zurich_stops_df.head()"
   ]
  },
  {
   "cell_type": "code",
   "execution_count": null,
   "metadata": {},
   "outputs": [],
   "source": [
    "# Filter the city in each files.\n",
    "zurich_stops_lower_name = zurich_stops_df.Remark.str.lower()\n",
    "for d in os.listdir(\"data/raw\"):\n",
    "    for f in os.listdir(os.path.join(\"data/raw\", d)):\n",
    "        print(f, end=\"\\r\")\n",
    "        data_df = pd.read_csv(os.path.join(\"data/raw\", os.path.join(d, f)), sep=\";\").dropna(subset = [\"HALTESTELLEN_NAME\"])\n",
    "        filtered_data = data_df[data_df.HALTESTELLEN_NAME.str.lower().isin(zurich_stops_lower_name)]    \n",
    "        filtered_data.to_csv(os.path.join(\"data/filtered\", os.path.join(d, f)), sep=\";\", index=False)"
   ]
  },
  {
   "cell_type": "markdown",
   "metadata": {},
   "source": [
    "<a id=\"data_cleaning\"></a>\n",
    "### Data cleaning"
   ]
  },
  {
   "cell_type": "markdown",
   "metadata": {},
   "source": [
    "Now that we have filtered stops that are too far away, we can preprocess our data:\n",
    "\n",
    "- We transform every time to its timestamp.\n",
    "- Compute the lateness of trains.\n",
    "- Remove all transports that only stop once in the 10km area around Zürich-HB"
   ]
  },
  {
   "cell_type": "code",
   "execution_count": null,
   "metadata": {},
   "outputs": [
    {
     "name": "stderr",
     "output_type": "stream",
     "text": [
      "  0%|          | 0/230 [00:00<?, ?it/s]/usr/local/lib/python3.5/dist-packages/tqdm/_monitor.py:89: TqdmSynchronisationWarning: Set changed size during iteration (see https://github.com/tqdm/tqdm/issues/481)\n",
      "  TqdmSynchronisationWarning)\n",
      "100%|██████████| 230/230 [1:58:09<00:00, 30.83s/it]\n"
     ]
    }
   ],
   "source": [
    "frmt1 = \"%d.%m.%Y %H:%M:%S\"\n",
    "frmt2 = \"%d.%m.%Y %H:%M\"\n",
    "\n",
    "\n",
    "def to_timestamp(x, date_format):\n",
    "    '''\n",
    "        Transform a date to its timestamp given a date_format.\n",
    "        NaN values are mapped to -99999\n",
    "    '''\n",
    "    if pd.isnull(x):\n",
    "        return -99999\n",
    "    else:\n",
    "        return time.mktime(datetime.datetime.strptime(x, date_format).timetuple())\n",
    "\n",
    "\n",
    "def time_diff(x, y):\n",
    "    '''\n",
    "        Compute the time difference between two values.\n",
    "    '''\n",
    "    if (x == -99999) & (y == -99999):\n",
    "        return -99999\n",
    "    elif (x == -99999) | (y == -99999):\n",
    "        return 0\n",
    "    else:\n",
    "        return y - x\n",
    "\n",
    "\n",
    "def get_day(x):\n",
    "    if pd.isnull(x):\n",
    "        return -1\n",
    "    else:\n",
    "        return datetime.datetime.strptime(x, \"%d.%m.%Y\").weekday()\n",
    "\n",
    "usefull_columns = ['FAHRT_BEZEICHNER', 'HALTESTELLEN_NAME', 'ANKUNFTSZEIT',\n",
    "    'ABFAHRTSZEIT', 'DURCHFAHRT_TF', 'ZUSATZFAHRT_TF',\n",
    "    'AN_PROGNOSE', 'BETRIEBSTAG']\n",
    "    \n",
    "def preprocess(file):\n",
    "    '''\n",
    "        Creates a preprocessed dataframe from the filename.\n",
    "    '''\n",
    "    df = pd.read_csv(file, sep=\";\", usecols=usefull_columns)\n",
    "\n",
    "    df = df[df['DURCHFAHRT_TF'] != True]\n",
    "    df = df[df['ZUSATZFAHRT_TF'] != True]\n",
    "    \n",
    "    df['ANKUNFTSZEIT'] = df['ANKUNFTSZEIT'].apply(lambda x: to_timestamp(x, frmt2))\n",
    "    df['ABFAHRTSZEIT'] = df['ABFAHRTSZEIT'].apply(lambda x: to_timestamp(x, frmt2))\n",
    "    df['AN_PROGNOSE'] = df['AN_PROGNOSE'].apply(lambda x: to_timestamp(x, frmt1))\n",
    "\n",
    "    df['LATENESS_arrival'] = df[['ANKUNFTSZEIT', 'AN_PROGNOSE']].apply(lambda x: time_diff(*x), axis=1)\n",
    "    df['DAY'] = df['BETRIEBSTAG'].apply(lambda x: get_day(x))\n",
    "\n",
    "    df = df.drop(['DURCHFAHRT_TF', 'ZUSATZFAHRT_TF', 'AN_PROGNOSE', 'BETRIEBSTAG'], axis=1)\n",
    "    \n",
    "    indexes = df.groupby(\"FAHRT_BEZEICHNER\")[\"HALTESTELLEN_NAME\"].count()    \n",
    "    df = df[(indexes[df.FAHRT_BEZEICHNER] > 1).values]\n",
    "    \n",
    "    return df\n",
    "\n",
    "\n",
    "files = list()\n",
    "for d in os.listdir(\"data/filtered/\"):\n",
    "    for f in os.listdir(os.path.join(\"data/filtered/\", d)):\n",
    "        files.append('data/filtered/'+d+'/'+f)\n",
    "\n",
    "data_df = pd.concat((preprocess(f) for f in tqdm(files)))\n",
    "\n",
    "tr_col_name = {\n",
    "'FAHRT_BEZEICHNER': 'TRIP_ID',\n",
    "'HALTESTELLEN_NAME': 'STOP_STATION_NAME',\n",
    "'ANKUNFTSZEIT': 'ARRIVAL_TIME',\n",
    "'ABFAHRTSZEIT': 'DEPARTURE_TIME',\n",
    "'LATENESS_arrival': 'LATENESS_arrival',\n",
    "'DAY': 'DAY'}\n",
    "\n",
    "data_df = data_df.rename(columns=tr_col_name)\n",
    "\n",
    "data_df.to_csv('preprocessed.csv', encoding='utf-8', sep=\";\", index=False)"
   ]
  },
  {
   "cell_type": "code",
   "execution_count": null,
   "metadata": {},
   "outputs": [],
   "source": [
    "data_df = pd.read_csv(\"preprocessed.csv\")"
   ]
  },
  {
   "cell_type": "code",
   "execution_count": 48,
   "metadata": {},
   "outputs": [
    {
     "data": {
      "text/html": [
       "<div>\n",
       "<style scoped>\n",
       "    .dataframe tbody tr th:only-of-type {\n",
       "        vertical-align: middle;\n",
       "    }\n",
       "\n",
       "    .dataframe tbody tr th {\n",
       "        vertical-align: top;\n",
       "    }\n",
       "\n",
       "    .dataframe thead th {\n",
       "        text-align: right;\n",
       "    }\n",
       "</style>\n",
       "<table border=\"1\" class=\"dataframe\">\n",
       "  <thead>\n",
       "    <tr style=\"text-align: right;\">\n",
       "      <th></th>\n",
       "      <th>TRIP_ID</th>\n",
       "      <th>STOP_STATION_NAME</th>\n",
       "      <th>ARRIVAL_TIME</th>\n",
       "      <th>DEPARTURE_TIME</th>\n",
       "      <th>LATENESS_arrival</th>\n",
       "      <th>DAY</th>\n",
       "    </tr>\n",
       "  </thead>\n",
       "  <tbody>\n",
       "    <tr>\n",
       "      <th>21</th>\n",
       "      <td>85:11:1507:002</td>\n",
       "      <td>Zürich HB</td>\n",
       "      <td>1.516689e+09</td>\n",
       "      <td>1.516690e+09</td>\n",
       "      <td>-32.0</td>\n",
       "      <td>1</td>\n",
       "    </tr>\n",
       "    <tr>\n",
       "      <th>22</th>\n",
       "      <td>85:11:1507:002</td>\n",
       "      <td>Zürich Flughafen</td>\n",
       "      <td>1.516690e+09</td>\n",
       "      <td>1.516690e+09</td>\n",
       "      <td>1.0</td>\n",
       "      <td>1</td>\n",
       "    </tr>\n",
       "    <tr>\n",
       "      <th>24</th>\n",
       "      <td>85:11:1509:003</td>\n",
       "      <td>Zürich HB</td>\n",
       "      <td>1.516693e+09</td>\n",
       "      <td>1.516693e+09</td>\n",
       "      <td>115.0</td>\n",
       "      <td>1</td>\n",
       "    </tr>\n",
       "    <tr>\n",
       "      <th>25</th>\n",
       "      <td>85:11:1509:003</td>\n",
       "      <td>Zürich Flughafen</td>\n",
       "      <td>1.516694e+09</td>\n",
       "      <td>1.516694e+09</td>\n",
       "      <td>56.0</td>\n",
       "      <td>1</td>\n",
       "    </tr>\n",
       "    <tr>\n",
       "      <th>26</th>\n",
       "      <td>85:11:1510:003</td>\n",
       "      <td>Zürich Flughafen</td>\n",
       "      <td>1.516691e+09</td>\n",
       "      <td>1.516692e+09</td>\n",
       "      <td>6.0</td>\n",
       "      <td>1</td>\n",
       "    </tr>\n",
       "  </tbody>\n",
       "</table>\n",
       "</div>"
      ],
      "text/plain": [
       "           TRIP_ID STOP_STATION_NAME  ARRIVAL_TIME  DEPARTURE_TIME  \\\n",
       "21  85:11:1507:002         Zürich HB  1.516689e+09    1.516690e+09   \n",
       "22  85:11:1507:002  Zürich Flughafen  1.516690e+09    1.516690e+09   \n",
       "24  85:11:1509:003         Zürich HB  1.516693e+09    1.516693e+09   \n",
       "25  85:11:1509:003  Zürich Flughafen  1.516694e+09    1.516694e+09   \n",
       "26  85:11:1510:003  Zürich Flughafen  1.516691e+09    1.516692e+09   \n",
       "\n",
       "    LATENESS_arrival  DAY  \n",
       "21             -32.0    1  \n",
       "22               1.0    1  \n",
       "24             115.0    1  \n",
       "25              56.0    1  \n",
       "26               6.0    1  "
      ]
     },
     "execution_count": 48,
     "metadata": {},
     "output_type": "execute_result"
    }
   ],
   "source": [
    "data_df.head()"
   ]
  },
  {
   "cell_type": "markdown",
   "metadata": {},
   "source": [
    "<a id=\"creation_connection\"></a>\n",
    "### Creation of connections between stations."
   ]
  },
  {
   "cell_type": "markdown",
   "metadata": {},
   "source": [
    "In the cells below, we create dataframes that contains every connections by day of the week.\n",
    "They are used in the CSA algorithm."
   ]
  },
  {
   "cell_type": "code",
   "execution_count": 34,
   "metadata": {},
   "outputs": [],
   "source": [
    "start_mon = time.mktime(datetime.datetime(2018, 1, 8).timetuple())\n",
    "end_mon = time.mktime(datetime.datetime(2018, 1, 15).timetuple())"
   ]
  },
  {
   "cell_type": "code",
   "execution_count": 44,
   "metadata": {},
   "outputs": [],
   "source": [
    "week_df = data_df[(data_df.ARRIVAL_TIME > start_mon) & (data_df.ARRIVAL_TIME < end_mon)]"
   ]
  },
  {
   "cell_type": "code",
   "execution_count": 59,
   "metadata": {},
   "outputs": [],
   "source": [
    "links = []\n",
    "\n",
    "def handle_group(group):\n",
    "    if len(group) > 1:\n",
    "        stops = group[['STOP_STATION_NAME', 'ARRIVAL_TIME', 'DEPARTURE_TIME', 'TRIP_ID']].sort_values('ARRIVAL_TIME').values\n",
    "        for link in zip(stops[:-1], stops[1:]):\n",
    "            if link[0][2] < 0:\n",
    "                link[0][2] = link[0][1]\n",
    "            if link[0][1] < 0:\n",
    "                link[0][1] = link[0][2]\n",
    "            if link[1][2] < 0:\n",
    "                link[1][2] = link[1][1]\n",
    "            if link[1][1] < 0:\n",
    "                link[1][1] = link[1][2]\n",
    "            if link[0][0] != link[1][0]:\n",
    "                links.append([link[0][0], link[1][0], link[0][2], link[1][1], link[0][3]])"
   ]
  },
  {
   "cell_type": "code",
   "execution_count": 61,
   "metadata": {},
   "outputs": [
    {
     "name": "stderr",
     "output_type": "stream",
     "text": [
      "  0%|          | 0/7 [00:00<?, ?it/s]/usr/local/lib/python3.5/dist-packages/tqdm/_monitor.py:89: TqdmSynchronisationWarning: Set changed size during iteration (see https://github.com/tqdm/tqdm/issues/481)\n",
      "  TqdmSynchronisationWarning)\n",
      "100%|██████████| 7/7 [01:51<00:00, 15.86s/it]\n"
     ]
    }
   ],
   "source": [
    "for d in tqdm(range(7)):\n",
    "    group = week_df[week_df.DAY == d].groupby(\"TRIP_ID\")    \n",
    "    links = []\n",
    "    \n",
    "    group.apply(lambda g: handle_group(g))\n",
    "    links_df = pd.DataFrame(links).sort_values(2)\n",
    "    links_df = links_df.rename(columns={0: \"DEP_STATION\", 1:\"ARR_STATION\", 2:\"DEP_TS\", 3:\"ARR_TS\", 4:\"TRIP_ID\"})\n",
    "    \n",
    "    links_df.to_csv(\"links/links_%s.csv\" % (d), index=False, header=False)"
   ]
  },
  {
   "cell_type": "markdown",
   "metadata": {},
   "source": [
    "<a id=\"delay_estimation\"></a>\n",
    "## Delay estimation"
   ]
  },
  {
   "cell_type": "markdown",
   "metadata": {},
   "source": [
    "<a id=\"delay_computation\"></a>\n",
    "### Computation"
   ]
  },
  {
   "cell_type": "code",
   "execution_count": 64,
   "metadata": {},
   "outputs": [],
   "source": [
    "data_df = data_df[data_df[\"LATENESS_arrival\"] != -99999]"
   ]
  },
  {
   "cell_type": "markdown",
   "metadata": {},
   "source": [
    "By the Dvoretzky-Kiefer-Wolfowitz inequality, we know that the ecdf (empirical cumulative distribution function) satisfies the following inequality : \n",
    "\n",
    "$$\\mathbb{Pr}( \\sup_{x \\in \\mathbb{R}} (F_n(x) - F(x)) > \\epsilon) \\leq e^{-2n\\epsilon^2} \\quad \\quad \\text{for} \\quad \\epsilon \\geq \\sqrt{\\frac{1}{2n} \\ln(2)}$$\n",
    "\n",
    "$$ \\text{Where } n \\text{ is the number of samples, } F_n(x) \\text{ is our ecdf and } \\\\ F(x) \\text{ is the underlying cumulative distribution of the lateness (which also represent the risk of being less than M minutes late).}$$\n",
    "\n",
    "With this equation, we can compute 95% confidence interval for F and thus integrate in our risk estimation : \n",
    "- The variance inside a group with the ecdf\n",
    "- The number of samples inside a group with the confidence bound\n",
    "\n",
    "$$\\text{Finally, to compute the confidence bound, we will set } \\epsilon = \\sqrt{\\frac{1}{2n} log(2/0.05)}$$\n",
    "\n",
    "This leads to our upperbound U(M) for the risk of being late by M minutes: \n",
    "$$ U(M) = 1 - max(F_n(M) - \\epsilon, 0) $$ "
   ]
  },
  {
   "cell_type": "code",
   "execution_count": 65,
   "metadata": {},
   "outputs": [],
   "source": [
    "def compute_risk_with_confidence_bound(data):\n",
    "    '''\n",
    "    Compute the fraction of transport that are more than M minutes late. \n",
    "    M is each values that the transport can be late.\n",
    "    \n",
    "    Use this table as a risk that the transport is more than M minute late.\n",
    "    '''\n",
    "    sorted_data = np.sort(data)\n",
    "    values = np.unique(sorted_data)\n",
    "    data_len = len(sorted_data)\n",
    "    \n",
    "    \n",
    "    confidence_bound = 0.05\n",
    "    epsilon = np.sqrt(1 / (2 * data_len) * np.log(2 / confidence_bound))\n",
    "    \n",
    "    percentile_dict = {}\n",
    "    \n",
    "    index = 0\n",
    "    for v in values:\n",
    "        try:\n",
    "            index = next(i for i in range(index, data_len) if sorted_data[i] > v)\n",
    "            percentile_dict[v] = 1 - max(index / data_len - epsilon, 0)\n",
    "        except StopIteration:\n",
    "            percentile_dict[v] = 0\n",
    "            \n",
    "    return percentile_dict"
   ]
  },
  {
   "cell_type": "code",
   "execution_count": 66,
   "metadata": {},
   "outputs": [],
   "source": [
    "groupby_col = [\"DAY\", \"TRIP_ID\"]\n",
    "\n",
    "grouped_df = data_df.groupby(groupby_col)\n",
    "grouped_delay_df = grouped_df.apply(lambda group: group[\"LATENESS_arrival\"])\n",
    "grouped_ecdf_df = grouped_df.apply(lambda group: pd.Series(compute_risk_with_confidence_bound(group[\"LATENESS_arrival\"].values)))"
   ]
  },
  {
   "cell_type": "code",
   "execution_count": 68,
   "metadata": {},
   "outputs": [],
   "source": [
    "metric_df = grouped_delay_df.groupby(level=[0,1]).agg([\"count\", \"var\"])"
   ]
  },
  {
   "cell_type": "code",
   "execution_count": 70,
   "metadata": {},
   "outputs": [
    {
     "data": {
      "text/html": [
       "<div>\n",
       "<style scoped>\n",
       "    .dataframe tbody tr th:only-of-type {\n",
       "        vertical-align: middle;\n",
       "    }\n",
       "\n",
       "    .dataframe tbody tr th {\n",
       "        vertical-align: top;\n",
       "    }\n",
       "\n",
       "    .dataframe thead th {\n",
       "        text-align: right;\n",
       "    }\n",
       "</style>\n",
       "<table border=\"1\" class=\"dataframe\">\n",
       "  <thead>\n",
       "    <tr style=\"text-align: right;\">\n",
       "      <th></th>\n",
       "      <th></th>\n",
       "      <th>count</th>\n",
       "      <th>var</th>\n",
       "    </tr>\n",
       "    <tr>\n",
       "      <th>DAY</th>\n",
       "      <th>TRIP_ID</th>\n",
       "      <th></th>\n",
       "      <th></th>\n",
       "    </tr>\n",
       "  </thead>\n",
       "  <tbody>\n",
       "    <tr>\n",
       "      <th rowspan=\"5\" valign=\"top\">0</th>\n",
       "      <th>85:11:13710:001</th>\n",
       "      <td>8</td>\n",
       "      <td>67090.267857</td>\n",
       "    </tr>\n",
       "    <tr>\n",
       "      <th>85:11:13711:001</th>\n",
       "      <td>6</td>\n",
       "      <td>32371.766667</td>\n",
       "    </tr>\n",
       "    <tr>\n",
       "      <th>85:11:13712:001</th>\n",
       "      <td>16</td>\n",
       "      <td>115168.029167</td>\n",
       "    </tr>\n",
       "    <tr>\n",
       "      <th>85:11:13713:001</th>\n",
       "      <td>16</td>\n",
       "      <td>1474.929167</td>\n",
       "    </tr>\n",
       "    <tr>\n",
       "      <th>85:11:13714:001</th>\n",
       "      <td>16</td>\n",
       "      <td>46785.050000</td>\n",
       "    </tr>\n",
       "  </tbody>\n",
       "</table>\n",
       "</div>"
      ],
      "text/plain": [
       "                     count            var\n",
       "DAY TRIP_ID                              \n",
       "0   85:11:13710:001      8   67090.267857\n",
       "    85:11:13711:001      6   32371.766667\n",
       "    85:11:13712:001     16  115168.029167\n",
       "    85:11:13713:001     16    1474.929167\n",
       "    85:11:13714:001     16   46785.050000"
      ]
     },
     "execution_count": 70,
     "metadata": {},
     "output_type": "execute_result"
    }
   ],
   "source": [
    "metric_df.head()"
   ]
  },
  {
   "cell_type": "code",
   "execution_count": null,
   "metadata": {},
   "outputs": [],
   "source": [
    "grouped_ecdf_df.to_pickle(\"risk_df.pkl\")"
   ]
  },
  {
   "cell_type": "code",
   "execution_count": 7,
   "metadata": {},
   "outputs": [],
   "source": [
    "grouped_ecdf_df = pd.read_pickle(\"risk_df.pkl\")"
   ]
  },
  {
   "cell_type": "markdown",
   "metadata": {},
   "source": [
    "<a id=\"delay_visualization\"></a>\n",
    "### Visualization"
   ]
  },
  {
   "cell_type": "code",
   "execution_count": 213,
   "metadata": {},
   "outputs": [],
   "source": [
    "def plot_risk_of_lateness(ecdf_data, title=\"\"):\n",
    "    plt.figure(figsize=(20, 4))\n",
    "    plt.plot(ecdf_data.keys(), ecdf_data.values)\n",
    "    plt.xlabel(\"seconds\")\n",
    "    plt.ylabel(\"risk of being late\")\n",
    "    plt.title(title)\n",
    "    plt.show()\n",
    "    \n",
    "def plot_risk_of_lateness_per_day(transport, trip_id, interval=60):\n",
    "    plt.figure(figsize=(20,4))\n",
    "    \n",
    "    for sec in range(0, interval*5, interval):\n",
    "        plt.bar(np.asarray(range(7)) -0.3 + 0.15*int(sec/interval), [transport.loc[:,:sec].loc[i].iloc[-1] for i in range(7)], width=0.1)\n",
    "\n",
    "    plt.xticks(range(7), [\"Monday\", \"Tuesday\", \"Wednesday\", \"Thursday\", \"Friday\", \"Saturday\", \"Sunday\"])\n",
    "    plt.title(\"Risk of being late for TRIP_ID = %s per days\" % trip_id)\n",
    "    plt.ylabel(\"Risk of being more than m minutes late\")\n",
    "    plt.legend([\"%s sec\" % i for i in range(0, interval * 5, interval)])\n",
    "\n",
    "    plt.show()"
   ]
  },
  {
   "cell_type": "code",
   "execution_count": 214,
   "metadata": {
    "scrolled": false
   },
   "outputs": [
    {
     "data": {
      "image/png": "[encoded data removed]",
      "text/plain": [
       "<Figure size 1440x288 with 1 Axes>"
      ]
     },
     "metadata": {},
     "output_type": "display_data"
    },
    {
     "data": {
      "image/png": "[encoded data removed]",
      "text/plain": [
       "<Figure size 1440x288 with 1 Axes>"
      ]
     },
     "metadata": {},
     "output_type": "display_data"
    }
   ],
   "source": [
    "ecdf1 = grouped_ecdf_df.loc[0, \"85:11:10:002\"]\n",
    "ecdf2 = grouped_ecdf_df.loc[0, \"85:11:1514:003\"]\n",
    "\n",
    "plot_risk_of_lateness(ecdf1, title=\"ECDF for Monday and TRIP_ID = 85:11:10:002\")\n",
    "plot_risk_of_lateness(ecdf2, title=\"ECDF for Monday and TRIP_ID = 85:11:1514:003\")"
   ]
  },
  {
   "cell_type": "code",
   "execution_count": 215,
   "metadata": {},
   "outputs": [
    {
     "data": {
      "image/png": "[encoded data removed]",
      "text/plain": [
       "<Figure size 1440x288 with 1 Axes>"
      ]
     },
     "metadata": {},
     "output_type": "display_data"
    },
    {
     "data": {
      "image/png": "[encoded data removed]",
      "text/plain": [
       "<Figure size 1440x288 with 1 Axes>"
      ]
     },
     "metadata": {},
     "output_type": "display_data"
    }
   ],
   "source": [
    "plot_risk_of_lateness_per_day(grouped_ecdf_df.loc[:, \"85:11:10:002\"], \"85:11:10:002\")\n",
    "plot_risk_of_lateness_per_day(grouped_ecdf_df.loc[:, \"85:11:1513:003\"], \"85:11:1513:003\")"
   ]
  },
  {
   "cell_type": "markdown",
   "metadata": {},
   "source": [
    "<a id=\"csa\"></a>\n",
    "## CSA"
   ]
  },
  {
   "cell_type": "markdown",
   "metadata": {},
   "source": [
    "<a id=\"csa_algorithm\"></a>\n",
    "### Algorithm"
   ]
  },
  {
   "cell_type": "markdown",
   "metadata": {},
   "source": [
    "In the following cells, we implement the CSA algorithm.\n",
    "The algorithm is defined in separate .py files.\n",
    "\n",
    "The files ```run_csa_sbb.py ``` and ```csa.py``` contains the algorithm.\n",
    "First, it adds the walking connections between two stops at distance smaller than 500 meters.\n",
    "Then we add all other transport connections. A connection contains the following informations : \n",
    "- Departure station\n",
    "- Arrival station\n",
    "- Departure time\n",
    "- Arrival time\n",
    "- TRIP_ID\n",
    "These connections are stored by day on a pickle file named ``` connections.pickle ```.\n",
    "\n",
    "The core of the algorithm is quite straight forward : \n",
    "\n",
    "Data structures:\n",
    "    - A dictionary with each stations that we can reach. Each station contains: \n",
    "        - Station name\n",
    "        - Timestamp when the station can be reached\n",
    "        - Certainty to reach the station\n",
    "        - The duration of  the trip \n",
    "\n",
    "Procedure:\n",
    "    1. For each connections sorted by departure timestamp.\n",
    "        2. See if it allows us to reach a stations faster or with better certainty than what we already can. \n",
    "           I.e, we only add a connection if there does not exist a faster way with at least the certainty of \n",
    "           this connection. \n",
    "           (add_connection from file csa.py for further details)"
   ]
  },
  {
   "cell_type": "code",
   "execution_count": 1,
   "metadata": {},
   "outputs": [
    {
     "name": "stdout",
     "output_type": "stream",
     "text": [
      "csa loading...\n",
      "run_csa_sbb loading...\n"
     ]
    }
   ],
   "source": [
    "from csa import connections_sbb\n",
    "from run_csa_sbb import run, all_stations"
   ]
  },
  {
   "cell_type": "code",
   "execution_count": 2,
   "metadata": {},
   "outputs": [
    {
     "data": {
      "application/vnd.jupyter.widget-view+json": {
       "model_id": "287c2116ca7b47ff97571aadd6a070e7",
       "version_major": 2,
       "version_minor": 0
      },
      "text/plain": [
       "HBox(children=(IntProgress(value=0, max=206029), HTML(value='')))"
      ]
     },
     "metadata": {},
     "output_type": "display_data"
    },
    {
     "name": "stdout",
     "output_type": "stream",
     "text": [
      "\n"
     ]
    }
   ],
   "source": [
    "departure_timestamp = 1515396840\n",
    "\n",
    "csa_sbb = run(\n",
    "    departure_station='Zürich HB',\n",
    "    arrival_station='Zürich, Zoo',\n",
    "    departure_timestamp = departure_timestamp,\n",
    "    min_certainty = 0.05,\n",
    "    speed = 4,\n",
    "    top_n = 5\n",
    ")"
   ]
  },
  {
   "cell_type": "markdown",
   "metadata": {},
   "source": [
    "<a id=\"csa_results\"></a>\n",
    "### Results"
   ]
  },
  {
   "cell_type": "markdown",
   "metadata": {},
   "source": [
    "This cell displays the output of algorithm. It outputs at most the five best paths that satisfy the entered criteria.\n",
    "\n",
    "\n",
    "You can see the algorithm in action on our website : http://www.robust-planner.com/.\n",
    "\n",
    "Alternatively, you can run the application locally on a docker with the following command : \n",
    "```shell\n",
    "docker run -idt -p 80:5000 --name labInData gregunz/robustplanner\n",
    "\n",
    "```\n",
    "The docker contains every precomputed static files.\n",
    "\n",
    "Pro:\n",
    "- The statistical part does not assume anything on the underlying distribution. The delay can have any distribution and our method will work with enough samples.\n",
    "- CSA returns the fastest path for several certainty level on a single run.\n",
    "\n",
    "\n",
    "Shortcoming :\n",
    "\n",
    "- Our way of computing the risk is a bit too conservative. Some groups may be too small, we could try to group them into larger group."
   ]
  },
  {
   "cell_type": "code",
   "execution_count": 5,
   "metadata": {
    "scrolled": false
   },
   "outputs": [
    {
     "name": "stdout",
     "output_type": "stream",
     "text": [
      "\n",
      "Zürich HB -> Zürich, Regensbergbrücke\n",
      "\n",
      "[path #1] in 17.0 minutes with 0.69 certainty\n",
      "\n",
      "FROM                      TO                        DURATION  CERTAINTY  TRIP_ID                \n",
      "Zürich HB                 Zürich Hardbrücke         5.0       1.0        85:11:18926:001        \n",
      "Zürich Hardbrücke         Zürich Oerlikon           5.0       1.0        85:11:18926:001        \n",
      "Zürich Oerlikon           Zürich, Sternen Oerlikon  3.4       1.0        walking                \n",
      "Zürich, Sternen Oerlikon  Zürich, Regensbergbrücke  3.6       0.69       85:849:252097-02062-1  \n",
      "\n",
      "[path #2] in 17.08 minutes with 1.0 certainty\n",
      "\n",
      "FROM               TO                        DURATION  CERTAINTY  TRIP_ID          \n",
      "Zürich HB          Zürich Hardbrücke         5.0       1.0        85:11:18926:001  \n",
      "Zürich Hardbrücke  Zürich Oerlikon           5.0       1.0        85:11:18926:001  \n",
      "Zürich Oerlikon    Zürich, Regensbergbrücke  7.08      1.0        walking          \n",
      "\n",
      "\n",
      "Zürich HB -> Rüschlikon, Park im Grüene\n",
      "\n",
      "[path #1] in 30.0 minutes with 0.29 certainty\n",
      "\n",
      "FROM                         TO                           DURATION  CERTAINTY  TRIP_ID                \n",
      "Zürich HB                    Zürich Wiedikon              5.0       1.0        85:11:18827:001        \n",
      "Zürich Wiedikon              Zürich Enge                  3.0       1.0        85:11:18827:001        \n",
      "Zürich Enge                  Zürich Wollishofen           3.0       1.0        85:11:18827:001        \n",
      "Zürich Wollishofen           Kilchberg                    2.0       1.0        85:11:18827:001        \n",
      "Kilchberg                    Rüschlikon                   3.0       1.0        85:11:18827:001        \n",
      "Rüschlikon                   Thalwil                      3.0       1.0        85:11:18827:001        \n",
      "Thalwil                      Thalwil, Aegertli            5.8       1.0        walking                \n",
      "Thalwil, Aegertli            Thalwil, Rudishaldenstrasse  2.2       0.29       85:807:522957-57131-1  \n",
      "Thalwil, Rudishaldenstrasse  Thalwil, Sonnenberg          1.0       1.0        85:807:522957-57131-1  \n",
      "Thalwil, Sonnenberg          Thalwil, Seehaldenstrasse    1.0       1.0        85:807:522957-57131-1  \n",
      "Thalwil, Seehaldenstrasse    Rüschlikon, Park im Grüene   1.0       1.0        85:807:522957-57131-1  \n",
      "\n",
      "[path #2] in 46.0 minutes with 0.9 certainty\n",
      "\n",
      "FROM                       TO                          DURATION  CERTAINTY  TRIP_ID               \n",
      "Zürich HB                  Zürich Wiedikon             5.0       1.0        85:11:18827:001       \n",
      "Zürich Wiedikon            Zürich Enge                 3.0       1.0        85:11:18827:001       \n",
      "Zürich Enge                Zürich Wollishofen          3.0       1.0        85:11:18827:001       \n",
      "Zürich Wollishofen         Kilchberg                   2.0       1.0        85:11:18827:001       \n",
      "Kilchberg                  Rüschlikon                  3.0       1.0        85:11:18827:001       \n",
      "Rüschlikon                 Rüschlikon, Belvoir         7.36      1.0        walking               \n",
      "Rüschlikon, Belvoir        Rüschlikon, Säumerstrasse   4.63      0.9        85:849:94947-01161-1  \n",
      "Rüschlikon, Säumerstrasse  Rüschlikon, Loorain         1.0       1.0        85:849:94947-01161-1  \n",
      "Rüschlikon, Loorain        Rüschlikon, Eggrain         0.0       1.0        85:849:94947-01161-1  \n",
      "Rüschlikon, Eggrain        Rüschlikon, Moosstrasse     1.0       1.0        85:849:94947-01161-1  \n",
      "Rüschlikon, Moosstrasse    Rüschlikon, Park im Grüene  16.0      1.0        85:849:94896-01161-1  \n",
      "\n",
      "[path #3] in 50.0 minutes with 0.92 certainty\n",
      "\n",
      "FROM                       TO                          DURATION  CERTAINTY  TRIP_ID                \n",
      "Zürich HB                  Zürich Wiedikon             5.0       1.0        85:11:18827:001        \n",
      "Zürich Wiedikon            Zürich Enge                 3.0       1.0        85:11:18827:001        \n",
      "Zürich Enge                Zürich Wollishofen          3.0       1.0        85:11:18827:001        \n",
      "Zürich Wollishofen         Kilchberg                   2.0       1.0        85:11:18827:001        \n",
      "Kilchberg                  Rüschlikon                  3.0       1.0        85:11:18827:001        \n",
      "Rüschlikon                 Rüschlikon, Belvoir         7.36      1.0        walking                \n",
      "Rüschlikon, Belvoir        Rüschlikon, Säumerstrasse   19.63     1.0        85:849:94896-01161-1   \n",
      "Rüschlikon, Säumerstrasse  Rüschlikon, Loorain         1.0       1.0        85:849:94896-01161-1   \n",
      "Rüschlikon, Loorain        Rüschlikon, Eggrain         0.0       1.0        85:849:94896-01161-1   \n",
      "Rüschlikon, Eggrain        Rüschlikon, Moosstrasse     1.0       1.0        85:849:94896-01161-1   \n",
      "Rüschlikon, Moosstrasse    Rüschlikon, Park im Grüene  5.0       0.92       85:807:522958-57131-1  \n",
      "\n",
      "[path #4] in 60.0 minutes with 1.0 certainty\n",
      "\n",
      "FROM                         TO                           DURATION  CERTAINTY  TRIP_ID                \n",
      "Zürich HB                    Zürich Wiedikon              5.0       1.0        85:11:18827:001        \n",
      "Zürich Wiedikon              Zürich Enge                  3.0       1.0        85:11:18827:001        \n",
      "Zürich Enge                  Zürich Wollishofen           3.0       1.0        85:11:18827:001        \n",
      "Zürich Wollishofen           Kilchberg                    2.0       1.0        85:11:18827:001        \n",
      "Kilchberg                    Rüschlikon                   3.0       1.0        85:11:18827:001        \n",
      "Rüschlikon                   Thalwil                      3.0       1.0        85:11:18827:001        \n",
      "Thalwil                      Thalwil, Aegertli            5.8       1.0        walking                \n",
      "Thalwil, Aegertli            Thalwil, Rudishaldenstrasse  32.2      1.0        85:807:522821-57131-1  \n",
      "Thalwil, Rudishaldenstrasse  Thalwil, Sonnenberg          1.0       1.0        85:807:522821-57131-1  \n",
      "Thalwil, Sonnenberg          Thalwil, Seehaldenstrasse    1.0       1.0        85:807:522821-57131-1  \n",
      "Thalwil, Seehaldenstrasse    Rüschlikon, Park im Grüene   1.0       1.0        85:807:522821-57131-1  \n",
      "\n",
      "\n",
      "Zürich HB -> Zürich, Neunbrunnen\n",
      "\n",
      "[path #1] in 22.0 minutes with 1.0 certainty\n",
      "\n",
      "FROM                    TO                      DURATION  CERTAINTY  TRIP_ID               \n",
      "Zürich HB               Zürich Hardbrücke       5.0       1.0        85:11:18926:001       \n",
      "Zürich Hardbrücke       Zürich Oerlikon         5.0       1.0        85:11:18926:001       \n",
      "Zürich Oerlikon         Zürich, Max-Bill-Platz  5.25      1.0        walking               \n",
      "Zürich, Max-Bill-Platz  Zürich, Bollingerweg    5.75      1.0        85:849:89462-02075-1  \n",
      "Zürich, Bollingerweg    Zürich, Neunbrunnen     1.0       1.0        85:849:89462-02075-1  \n",
      "\n",
      "\n",
      "Zürich HB -> Schlieren, Bahnhof Nord\n",
      "\n",
      "[path #1] in 22.9 minutes with 0.83 certainty\n",
      "\n",
      "FROM               TO                       DURATION  CERTAINTY  TRIP_ID          \n",
      "Zürich HB          Zürich Hardbrücke        5.0       1.0        85:11:18926:001  \n",
      "Zürich Hardbrücke  Zürich Altstetten        5.0       0.83       85:11:18526:001  \n",
      "Zürich Altstetten  Schlieren                9.0       1.0        85:11:19226:001  \n",
      "Schlieren          Schlieren, Bahnhof Nord  3.9       1.0        walking          \n",
      "\n",
      "[path #2] in 51.0 minutes with 1.0 certainty\n",
      "\n",
      "FROM                           TO                             DURATION  CERTAINTY  TRIP_ID                \n",
      "Zürich HB                      Zürich, Sihlquai/HB            4.06      1.0        walking                \n",
      "Zürich, Sihlquai/HB            Zürich, Museum für Gestaltung  2.93      1.0        85:3849:83783-02013-1  \n",
      "Zürich, Museum für Gestaltung  Zürich, Limmatplatz            1.0       1.0        85:3849:83783-02013-1  \n",
      "Zürich, Limmatplatz            Zürich, Quellenstrasse         1.0       1.0        85:3849:83783-02013-1  \n",
      "Zürich, Quellenstrasse         Zürich, Dammweg                1.0       1.0        85:3849:83783-02013-1  \n",
      "Zürich, Dammweg                Zürich, Escher-Wyss-Platz      1.0       1.0        85:3849:83783-02013-1  \n",
      "Zürich, Escher-Wyss-Platz      Zürich, Förrlibuckstrasse      7.0       1.0        85:3849:84842-02017-1  \n",
      "Zürich, Förrlibuckstrasse      Zürich, Fischerweg             1.0       1.0        85:3849:84842-02017-1  \n",
      "Zürich, Fischerweg             Zürich, Bernoulli-Häuser       1.0       1.0        85:3849:84842-02017-1  \n",
      "Zürich, Bernoulli-Häuser       Zürich, Hardturm               1.0       1.0        85:3849:84842-02017-1  \n",
      "Zürich, Hardturm               Zürich, Hardhof                1.0       1.0        85:3849:84842-02017-1  \n",
      "Zürich, Hardhof                Zürich, Tüffenwies             1.0       1.0        85:3849:84842-02017-1  \n",
      "Zürich, Tüffenwies             Zürich, Grünaustrasse          2.0       1.0        85:3849:84842-02017-1  \n",
      "Zürich, Grünaustrasse          Zürich, Bändliweg              1.0       1.0        85:3849:84842-02017-1  \n",
      "Zürich, Bändliweg              Zürich, Werdhölzli             1.0       1.0        85:3849:84842-02017-1  \n",
      "Zürich, Werdhölzli             Zürich, Juchhof                20.0      1.0        85:849:98574-11307-1   \n",
      "Zürich, Juchhof                Schlieren, Industrie Gaswerk   1.0       1.0        85:849:98574-11307-1   \n",
      "Schlieren, Industrie Gaswerk   Schlieren, Rütistrasse         2.0       1.0        85:849:98574-11307-1   \n",
      "Schlieren, Rütistrasse         Schlieren, Bahnhof Nord        1.0       1.0        85:849:98574-11307-1   \n",
      "\n",
      "\n",
      "Zürich HB -> Zürich, Radiostudio\n",
      "\n",
      "[path #1] in 15.0 minutes with 0.13 certainty\n",
      "\n",
      "FROM                       TO                         DURATION  CERTAINTY  TRIP_ID                 \n",
      "Zürich HB                  Zürich, Stampfenbachplatz  4.2       1.0        walking                 \n",
      "Zürich, Stampfenbachplatz  Zürich, Beckenhof          1.8       1.0        85:3849:521032-02014-1  \n",
      "Zürich, Beckenhof          Zürich, Kronenstrasse      1.0       1.0        85:3849:521032-02014-1  \n",
      "Zürich, Kronenstrasse      Zürich, Schaffhauserplatz  2.0       1.0        85:3849:521032-02014-1  \n",
      "Zürich, Schaffhauserplatz  Zürich, Laubiweg           3.0       0.9        85:3849:521217-02015-1  \n",
      "Zürich, Laubiweg           Zürich, Bucheggplatz       2.0       1.0        85:3849:521217-02015-1  \n",
      "Zürich, Bucheggplatz       Zürich, Radiostudio        1.0       0.14       85:3849:83330-02011-1   \n",
      "\n",
      "[path #2] in 19.0 minutes with 0.9 certainty\n",
      "\n",
      "FROM                       TO                         DURATION  CERTAINTY  TRIP_ID                 \n",
      "Zürich HB                  Zürich, Stampfenbachplatz  4.2       1.0        walking                 \n",
      "Zürich, Stampfenbachplatz  Zürich, Beckenhof          1.8       1.0        85:3849:521032-02014-1  \n",
      "Zürich, Beckenhof          Zürich, Kronenstrasse      1.0       1.0        85:3849:521032-02014-1  \n",
      "Zürich, Kronenstrasse      Zürich, Schaffhauserplatz  2.0       1.0        85:3849:521032-02014-1  \n",
      "Zürich, Schaffhauserplatz  Zürich, Laubiweg           3.0       0.9        85:3849:521217-02015-1  \n",
      "Zürich, Laubiweg           Zürich, Bucheggplatz       2.0       1.0        85:3849:521217-02015-1  \n",
      "Zürich, Bucheggplatz       Zürich, Radiostudio        5.0       1.0        85:849:85598-02032-1    \n",
      "\n",
      "[path #3] in 23.0 minutes with 1.0 certainty\n",
      "\n",
      "FROM                       TO                         DURATION  CERTAINTY  TRIP_ID                 \n",
      "Zürich HB                  Zürich, Stampfenbachplatz  4.2       1.0        walking                 \n",
      "Zürich, Stampfenbachplatz  Zürich, Beckenhof          1.8       1.0        85:3849:521032-02014-1  \n",
      "Zürich, Beckenhof          Zürich, Kronenstrasse      1.0       1.0        85:3849:521032-02014-1  \n",
      "Zürich, Kronenstrasse      Zürich, Schaffhauserplatz  2.0       1.0        85:3849:521032-02014-1  \n",
      "Zürich, Schaffhauserplatz  Zürich, Guggachstrasse     1.0       1.0        85:3849:521032-02014-1  \n",
      "Zürich, Guggachstrasse     Zürich, Laubiweg           4.46      1.0        walking                 \n",
      "Zürich, Laubiweg           Zürich, Bucheggplatz       6.53      1.0        85:3849:83349-02011-1   \n",
      "Zürich, Bucheggplatz       Zürich, Radiostudio        2.0       1.0        85:3849:83349-02011-1   \n",
      "\n"
     ]
    }
   ],
   "source": [
    "np.random.seed(3)\n",
    "\n",
    "for s in np.random.choice(all_stations, size = 5):\n",
    "    print()\n",
    "    print('{} -> {}'.format(csa_sbb.dep_station, s))\n",
    "    print()\n",
    "    for i, p in enumerate(csa_sbb.get_paths(s)):\n",
    "        duration = int(np.sum([e['duration'] for e in p.edges()]) / 60 * 100) / 100\n",
    "        print(\"[path #{}] in {} minutes with {} certainty\".format(i+1, duration, int(p.last()['cum_certainty'] * 100) / 100))\n",
    "        print()\n",
    "        lines = [['FROM', 'TO', 'DURATION', 'CERTAINTY', 'TRIP_ID']]\n",
    "        for e in p.edges():\n",
    "            line = [e['from'], e['to'], int(e['duration'] / 60 * 100) / 100 , int(e['certainty'] * 100) / 100, e['trip_id']]\n",
    "            line = [str(e) for e in line]\n",
    "            lines.append(line)\n",
    "        col_widths = [max([len(word) for word in row]) + 2 for row in pd.DataFrame(lines).T.values ]  # padding\n",
    "        for row in lines:\n",
    "            print(''.join(word.ljust(col_widths[i]) for i, word in enumerate(row)))\n",
    "        print()"
   ]
  },
  {
   "cell_type": "code",
   "execution_count": null,
   "metadata": {},
   "outputs": [],
   "source": []
  }
 ],
 "metadata": {
  "kernelspec": {
   "display_name": "Python 3",
   "language": "python",
   "name": "python3"
  },
  "language_info": {
   "codemirror_mode": {
    "name": "ipython",
    "version": 3
   },
   "file_extension": ".py",
   "mimetype": "text/x-python",
   "name": "python",
   "nbconvert_exporter": "python",
   "pygments_lexer": "ipython3",
   "version": "3.5.2"
  }
 },
 "nbformat": 4,
 "nbformat_minor": 2
}
