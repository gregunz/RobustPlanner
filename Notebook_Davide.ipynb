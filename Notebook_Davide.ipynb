{
 "cells": [
  {
   "cell_type": "code",
   "execution_count": 62,
   "metadata": {
    "collapsed": true
   },
   "outputs": [],
   "source": [
    "import pandas as pd\n",
    "import numpy as np\n",
    "from geopy.distance import distance as geo_dist\n",
    "import datetime\n",
    "import time\n",
    "import matplotlib.pyplot as plt\n",
    "import scipy.stats as st\n",
    "import os"
   ]
  },
  {
   "cell_type": "markdown",
   "metadata": {},
   "source": [
    "Below, we extract the stations from the metadata file and compute their distance to Zürich HB. \n",
    "Each data files are then filtered and only contain station at a distance lower than 10 km to Zürich HB."
   ]
  },
  {
   "cell_type": "code",
   "execution_count": 2,
   "metadata": {
    "collapsed": true
   },
   "outputs": [],
   "source": [
    "# Extract list of stop from metadata file.\n",
    "with open(\"data/BFKOORD_GEO\") as file:\n",
    "    metadata = file.readlines()\n",
    "    \n",
    "metadata_cleaned = [line.split(\"%\") for line in metadata]\n",
    "metadata_cleaned = [[line[0].split(), line[1][1:-1]] for line in  metadata_cleaned]\n",
    "metadata_cleaned = [[line[0][0], line[0][1], line[0][2], line[0][3], line[1]] for line in metadata_cleaned]\n",
    "\n",
    "metadata_df = pd.DataFrame(metadata_cleaned, columns=[\"StationID\", \"Longitude\", \"Latitude\", \"Height\", \"Remark\"])\n",
    "\n",
    "metadata_df[\"Longitude\"] = pd.to_numeric(metadata_df[\"Longitude\"])\n",
    "metadata_df[\"Latitude\"] = pd.to_numeric(metadata_df[\"Latitude\"])"
   ]
  },
  {
   "cell_type": "code",
   "execution_count": 3,
   "metadata": {},
   "outputs": [
    {
     "data": {
      "text/html": [
       "<div>\n",
       "<style>\n",
       "    .dataframe thead tr:only-child th {\n",
       "        text-align: right;\n",
       "    }\n",
       "\n",
       "    .dataframe thead th {\n",
       "        text-align: left;\n",
       "    }\n",
       "\n",
       "    .dataframe tbody tr th {\n",
       "        vertical-align: top;\n",
       "    }\n",
       "</style>\n",
       "<table border=\"1\" class=\"dataframe\">\n",
       "  <thead>\n",
       "    <tr style=\"text-align: right;\">\n",
       "      <th></th>\n",
       "      <th>StationID</th>\n",
       "      <th>Longitude</th>\n",
       "      <th>Latitude</th>\n",
       "      <th>Height</th>\n",
       "      <th>Remark</th>\n",
       "      <th>dist</th>\n",
       "    </tr>\n",
       "  </thead>\n",
       "  <tbody>\n",
       "    <tr>\n",
       "      <th>74</th>\n",
       "      <td>0000176</td>\n",
       "      <td>8.521961</td>\n",
       "      <td>47.351679</td>\n",
       "      <td>0</td>\n",
       "      <td>Zimmerberg-Basistunnel</td>\n",
       "      <td>3.251969</td>\n",
       "    </tr>\n",
       "    <tr>\n",
       "      <th>2084</th>\n",
       "      <td>8502220</td>\n",
       "      <td>8.434713</td>\n",
       "      <td>47.390882</td>\n",
       "      <td>442</td>\n",
       "      <td>Urdorf</td>\n",
       "      <td>8.088858</td>\n",
       "    </tr>\n",
       "    <tr>\n",
       "      <th>2085</th>\n",
       "      <td>8502221</td>\n",
       "      <td>8.437543</td>\n",
       "      <td>47.357432</td>\n",
       "      <td>488</td>\n",
       "      <td>Birmensdorf ZH</td>\n",
       "      <td>8.089105</td>\n",
       "    </tr>\n",
       "    <tr>\n",
       "      <th>2086</th>\n",
       "      <td>8502222</td>\n",
       "      <td>8.468175</td>\n",
       "      <td>47.325896</td>\n",
       "      <td>528</td>\n",
       "      <td>Bonstetten-Wettswil</td>\n",
       "      <td>7.961914</td>\n",
       "    </tr>\n",
       "    <tr>\n",
       "      <th>2092</th>\n",
       "      <td>8502229</td>\n",
       "      <td>8.430330</td>\n",
       "      <td>47.380971</td>\n",
       "      <td>456</td>\n",
       "      <td>Urdorf Weihermatt</td>\n",
       "      <td>8.302117</td>\n",
       "    </tr>\n",
       "  </tbody>\n",
       "</table>\n",
       "</div>"
      ],
      "text/plain": [
       "     StationID  Longitude   Latitude Height                  Remark      dist\n",
       "74     0000176   8.521961  47.351679      0  Zimmerberg-Basistunnel  3.251969\n",
       "2084   8502220   8.434713  47.390882    442                  Urdorf  8.088858\n",
       "2085   8502221   8.437543  47.357432    488          Birmensdorf ZH  8.089105\n",
       "2086   8502222   8.468175  47.325896    528     Bonstetten-Wettswil  7.961914\n",
       "2092   8502229   8.430330  47.380971    456       Urdorf Weihermatt  8.302117"
      ]
     },
     "execution_count": 3,
     "metadata": {},
     "output_type": "execute_result"
    }
   ],
   "source": [
    "# Retrieve stops near Zurich main station\n",
    "zurichHB = metadata_df[metadata_df.Remark == \"Zürich HB\"]\n",
    "\n",
    "metadata_df[\"dist\"] = metadata_df.apply(lambda x: geo_dist((zurichHB.Latitude.values[0], zurichHB.Longitude.values[0]),\n",
    "                                                            (x.Latitude, x.Longitude)).km, axis=1)\n",
    "zurich_stops_df = metadata_df[metadata_df[\"dist\"] < 10]\n",
    "zurich_stops_df.head()"
   ]
  },
  {
   "cell_type": "code",
   "execution_count": null,
   "metadata": {
    "collapsed": true
   },
   "outputs": [],
   "source": [
    "zurich_stops_lower_name = zurich_stops_df.Remark.str.lower()\n",
    "for d in os.listdir(\"data/raw\"):\n",
    "    for f in os.listdir(os.path.join(\"data/raw\", d)):\n",
    "        print(f, end=\"\\r\")\n",
    "        data_df = pd.read_csv(os.path.join(\"data/raw\", os.path.join(d, f)), sep=\";\").dropna(subset = [\"HALTESTELLEN_NAME\"])\n",
    "        filtered_data = data_df[data_df.HALTESTELLEN_NAME.str.lower().isin(zurich_stops_lower_name)]    \n",
    "        filtered_data.to_csv(os.path.join(\"data/filtered\", os.path.join(d, f)), sep=\";\", index=False)"
   ]
  },
  {
   "cell_type": "markdown",
   "metadata": {
    "collapsed": true
   },
   "source": [
    "________________________________________________________"
   ]
  },
  {
   "cell_type": "code",
   "execution_count": 5,
   "metadata": {},
   "outputs": [
    {
     "name": "stderr",
     "output_type": "stream",
     "text": [
      "/home/student/anaconda3/lib/python3.6/site-packages/IPython/core/interactiveshell.py:2698: DtypeWarning: Columns (7,9) have mixed types. Specify dtype option on import or set low_memory=False.\n",
      "  interactivity=interactivity, compiler=compiler, result=result)\n"
     ]
    }
   ],
   "source": [
    "original_df = pd.read_csv(\"data/filtered/2017-09/2017-09-25istdaten.csv\", sep=\";\")"
   ]
  },
  {
   "cell_type": "code",
   "execution_count": 63,
   "metadata": {},
   "outputs": [
    {
     "name": "stderr",
     "output_type": "stream",
     "text": [
      "/home/student/anaconda3/lib/python3.6/site-packages/ipykernel_launcher.py:3: DtypeWarning: Columns (7,9) have mixed types. Specify dtype option on import or set low_memory=False.\n",
      "  This is separate from the ipykernel package so we can avoid doing imports until\n"
     ]
    }
   ],
   "source": [
    "directory = \"data/filtered/2017-09\"\n",
    "all_files = os.listdir(directory)\n",
    "month_df = pd.concat((pd.read_csv(os.path.join(directory, f), sep=\";\") for f in all_files))"
   ]
  },
  {
   "cell_type": "code",
   "execution_count": 6,
   "metadata": {
    "collapsed": true
   },
   "outputs": [],
   "source": [
    "def to_timestamp(x, date_format):\n",
    "    if pd.isnull(x):\n",
    "        return x\n",
    "    else:\n",
    "        return time.mktime(datetime.datetime.strptime(x, date_format).timetuple())\n",
    "\n",
    "def to_time_bucket(x):\n",
    "    if pd.isnull(x):\n",
    "        return x\n",
    "    date = datetime.datetime.fromtimestamp(x)\n",
    "    return 2*date.hour + int(date.minute > 30)\n",
    "    \n",
    "def compute_and_add_delay(df):\n",
    "    df[\"AN_PROGNOSE_TS\"] = df[\"AN_PROGNOSE\"].apply(lambda x : to_timestamp(x, \"%d.%m.%Y %H:%M:%S\"))\n",
    "    df[\"ANKUNFTSZEIT_TS\"] = df[\"ANKUNFTSZEIT\"].apply(lambda x : to_timestamp(x, \"%d.%m.%Y %H:%M\"))\n",
    "    df[\"AB_PROGNOSE_TS\"] = df[\"AB_PROGNOSE\"].apply(lambda x : to_timestamp(x, \"%d.%m.%Y %H:%M:%S\"))\n",
    "    df[\"ABFAHRTSZEIT_TS\"] = df[\"ABFAHRTSZEIT\"].apply(lambda x : to_timestamp(x, \"%d.%m.%Y %H:%M\"))\n",
    "    df[\"DAY_OF_WEEK\"] = df[\"BETRIEBSTAG\"].apply(lambda x : datetime.datetime.strptime(x, \"%d.%m.%Y\").weekday())\n",
    "    \n",
    "    ## TODO remove entries where AN_PROGNOSE_TS and AB_PROGNOSE_TS are nan\n",
    "    df[\"TIME_BUCKET\"] = df[\"AN_PROGNOSE_TS\"].apply(to_time_bucket)\n",
    "    \n",
    "\n",
    "    AN_DELAY = np.round((df[\"AN_PROGNOSE_TS\"] - df[\"ANKUNFTSZEIT_TS\"]) / 60.)\n",
    "    AB_DELAY = np.round((df[\"AB_PROGNOSE_TS\"] - df[\"ABFAHRTSZEIT_TS\"]) / 60.)\n",
    "\n",
    "    df[\"AN_DELAY\"] = AN_DELAY # np.where(AN_DELAY < 0, 0, AN_DELAY)\n",
    "    df[\"AB_DELAY\"] = AB_DELAY # np.where(AB_DELAY < 0, 0, AB_DELAY)\n",
    "    \n",
    "def compute_cdf_data(data):\n",
    "    '''\n",
    "    Compute the fraction of transport that are more than M minutes late. \n",
    "    M is each values that the transport can be late.\n",
    "    \n",
    "    Use this table as a risk that the transport is more than M minute late.\n",
    "    '''\n",
    "    sorted_data = np.sort(data)\n",
    "    values = np.unique(sorted_data)\n",
    "    data_len = len(sorted_data)\n",
    "    \n",
    "    percentile_dict = {}\n",
    "    \n",
    "    index = 0\n",
    "    for v in values:\n",
    "        try:\n",
    "            index = next(i for i in range(index, data_len) if sorted_data[i] > v)\n",
    "            percentile_dict[v] = index / data_len\n",
    "        except StopIteration:\n",
    "            percentile_dict[v] = 1\n",
    "            \n",
    "    return percentile_dict"
   ]
  },
  {
   "cell_type": "code",
   "execution_count": 4,
   "metadata": {
    "collapsed": true
   },
   "outputs": [],
   "source": [
    "column_to_keep = [\"AN_PROGNOSE\", \"ANKUNFTSZEIT\", \"AB_PROGNOSE\", \"ABFAHRTSZEIT\", \"BETREIBER_ABK\",\n",
    "                  \"HALTESTELLEN_NAME\", \"LINIEN_ID\", \"BETRIEBSTAG\", \"PRODUKT_ID\"]\n",
    "filtered_df = month_df[column_to_keep].copy()\n",
    "compute_and_add_delay(filtered_df)"
   ]
  },
  {
   "cell_type": "code",
   "execution_count": 402,
   "metadata": {},
   "outputs": [
    {
     "name": "stdout",
     "output_type": "stream",
     "text": [
      "(0.79837356396024273, 0.92419952748699763)\n"
     ]
    },
    {
     "data": {
      "image/png": "[encoded data removed]",
      "text/plain": [
       "<matplotlib.figure.Figure at 0x7f51ebc5cb00>"
      ]
     },
     "metadata": {},
     "output_type": "display_data"
    },
    {
     "data": {
      "image/png": "[encoded data removed]",
      "text/plain": [
       "<matplotlib.figure.Figure at 0x7f51ec0f1940>"
      ]
     },
     "metadata": {},
     "output_type": "display_data"
    },
    {
     "name": "stdout",
     "output_type": "stream",
     "text": [
      "KstestResult(statistic=0.23771185888641777, pvalue=0.0)\n"
     ]
    }
   ],
   "source": [
    "'''\n",
    "    Tentative to fit distribution to the delay, fails spectacularly with prognose data. \n",
    "    Problem is that some line only have prognose data status. Cannot estimate them with this \n",
    "'''\n",
    "\n",
    "data = filtered_df[filtered_df.LINIEN_ID == \"85:3849:007\"].AN_DELAY.dropna().values\n",
    "\n",
    "dist = st.norm\n",
    "\n",
    "args = dist.fit(data)\n",
    "\n",
    "print(args)\n",
    "\n",
    "plt.hist(data, density=True, rwidth=0.1)\n",
    "x = np.linspace(dist.ppf(0.01, *args), dist.ppf(0.99, *args), 6)\n",
    "plt.plot(x, dist.pdf(x, *args), lw=5, alpha=0.6, label='expon pdf')\n",
    "\n",
    "plt.show()\n",
    "\n",
    "x = range(0, int(np.max(data)))\n",
    "plt.hist(data, cumulative=True, normed=True, histtype=\"step\", color=\"red\")\n",
    "plt.plot(x, dist.cdf(x, *args))\n",
    "plt.show()\n",
    "\n",
    "print(st.kstest(data, dist.cdf, args=args))"
   ]
  },
  {
   "cell_type": "code",
   "execution_count": 14,
   "metadata": {},
   "outputs": [
    {
     "data": {
      "image/png": "[encoded data removed]",
      "text/plain": [
       "<matplotlib.figure.Figure at 0x7f092d455940>"
      ]
     },
     "metadata": {},
     "output_type": "display_data"
    }
   ],
   "source": [
    "d1 = compute_cdf_data(filtered_df[(filtered_df.LINIEN_ID == \"85:3849:007\") & (filtered_df.DAY_OF_WEEK == 1)].AN_DELAY.dropna().values)\n",
    "d2 = compute_cdf_data(filtered_df[(filtered_df.LINIEN_ID == \"85:849:033\") & (filtered_df.DAY_OF_WEEK == 1)].AN_DELAY.dropna().values)\n",
    "d3 = compute_cdf_data(filtered_df[(filtered_df.LINIEN_ID == \"85:849:917\") & (filtered_df.DAY_OF_WEEK == 1)].AN_DELAY.dropna().values)\n",
    "\n",
    "plt.bar(d1.keys(), d1.values(), alpha = 0.7)\n",
    "plt.bar(d2.keys(), d2.values(), alpha = 0.7)\n",
    "plt.bar(d3.keys(), d3.values(), alpha = 0.7)\n",
    "\n",
    "plt.show()"
   ]
  },
  {
   "cell_type": "code",
   "execution_count": 7,
   "metadata": {},
   "outputs": [],
   "source": [
    "useful_col = [\"AN_DELAY\", \"HALTESTELLEN_NAME\", \"LINIEN_ID\", \"PRODUKT_ID\", \"BETREIBER_ABK\", \"TIME_BUCKET\", \"DAY_OF_WEEK\"] \n",
    "groupby_col = [\"TIME_BUCKET\", \"PRODUKT_ID\", \"DAY_OF_WEEK\"]\n",
    "\n",
    "grouped_df = filtered_df[useful_col].groupby(groupby_col).apply(lambda group: pd.Series(compute_cdf_data(group.AN_DELAY.dropna().values)))"
   ]
  },
  {
   "cell_type": "code",
   "execution_count": 58,
   "metadata": {},
   "outputs": [],
   "source": [
    "def compute_mse_with_model(row):\n",
    "    if pd.isnull(row.AN_DELAY):\n",
    "        return row.AN_DELAY\n",
    "    else:\n",
    "        try: \n",
    "            return (row.AN_DELAY - grouped_df[row.TIME_BUCKET, row.PRODUKT_ID, row.DAY_OF_WEEK, 0])**2\n",
    "        except KeyError:\n",
    "            return 0\n",
    "\n",
    "filtered_df[\"ERROR\"] = filtered_df.apply(compute_mse_with_model, axis=1)"
   ]
  },
  {
   "cell_type": "code",
   "execution_count": 59,
   "metadata": {},
   "outputs": [
    {
     "data": {
      "text/plain": [
       "8.335069620006157"
      ]
     },
     "execution_count": 59,
     "metadata": {},
     "output_type": "execute_result"
    }
   ],
   "source": [
    "filtered_df.ERROR.mean()"
   ]
  },
  {
   "cell_type": "code",
   "execution_count": 61,
   "metadata": {},
   "outputs": [
    {
     "data": {
      "text/plain": [
       "158472.9635984206"
      ]
     },
     "execution_count": 61,
     "metadata": {},
     "output_type": "execute_result"
    }
   ],
   "source": [
    "filtered_df.ERROR.var()"
   ]
  },
  {
   "cell_type": "code",
   "execution_count": 18,
   "metadata": {},
   "outputs": [
    {
     "data": {
      "image/png": "[encoded data removed]",
      "text/plain": [
       "<matplotlib.figure.Figure at 0x7f0a4e6290b8>"
      ]
     },
     "metadata": {},
     "output_type": "display_data"
    }
   ],
   "source": [
    "plt.figure(figsize=(20,4))\n",
    "plt.bar(grouped_df.loc[:, \"Zug\", 0, 0].keys()/2., grouped_df.loc[:, \"Zug\", 0, 0], width=0.1)\n",
    "plt.bar(grouped_df.loc[:, \"Bus\", 0, 0].keys()/2.+0.1, grouped_df.loc[:, \"Bus\", 0, 0], width=0.1)\n",
    "plt.bar(grouped_df.loc[:, \"Tram\", 0, 0].keys()/2.-0.1, grouped_df.loc[:, \"Tram\", 0, 0], width=0.1)\n",
    "plt.xticks(list(grouped_df.loc[:, \"Zug\", 0, 0].keys()/2.))\n",
    "\n",
    "plt.legend([\"Zug\", \"Bus\", \"Tram\"])\n",
    "\n",
    "plt.show()"
   ]
  },
  {
   "cell_type": "code",
   "execution_count": 403,
   "metadata": {},
   "outputs": [
    {
     "data": {
      "text/plain": [
       "Index(['BETRIEBSTAG', 'FAHRT_BEZEICHNER', 'BETREIBER_ID', 'BETREIBER_ABK',\n",
       "       'BETREIBER_NAME', 'PRODUKT_ID', 'LINIEN_ID', 'LINIEN_TEXT', 'UMLAUF_ID',\n",
       "       'VERKEHRSMITTEL_TEXT', 'ZUSATZFAHRT_TF', 'FAELLT_AUS_TF', 'BPUIC',\n",
       "       'HALTESTELLEN_NAME', 'ANKUNFTSZEIT', 'AN_PROGNOSE',\n",
       "       'AN_PROGNOSE_STATUS', 'ABFAHRTSZEIT', 'AB_PROGNOSE',\n",
       "       'AB_PROGNOSE_STATUS', 'DURCHFAHRT_TF', 'AN_PROGNOSE_TS',\n",
       "       'ANKUNFTSZEIT_TS', 'AB_PROGNOSE_TS', 'ABFAHRTSZEIT_TS', 'TIME_BUCKET',\n",
       "       'AN_DELAY', 'AB_DELAY'],\n",
       "      dtype='object')"
      ]
     },
     "execution_count": 403,
     "metadata": {},
     "output_type": "execute_result"
    }
   ],
   "source": [
    "filtered_df.columns"
   ]
  },
  {
   "cell_type": "code",
   "execution_count": 77,
   "metadata": {
    "collapsed": true
   },
   "outputs": [],
   "source": [
    "t = datetime.datetime.strptime(month_df.head(1).BETRIEBSTAG.values[0], \"%d.%m.%Y\")"
   ]
  },
  {
   "cell_type": "code",
   "execution_count": null,
   "metadata": {
    "collapsed": true
   },
   "outputs": [],
   "source": []
  }
 ],
 "metadata": {
  "kernelspec": {
   "display_name": "Python 3",
   "language": "python",
   "name": "python3"
  },
  "language_info": {
   "codemirror_mode": {
    "name": "ipython",
    "version": 3
   },
   "file_extension": ".py",
   "mimetype": "text/x-python",
   "name": "python",
   "nbconvert_exporter": "python",
   "pygments_lexer": "ipython3",
   "version": "3.6.3"
  }
 },
 "nbformat": 4,
 "nbformat_minor": 2
}
