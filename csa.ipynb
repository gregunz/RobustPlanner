{
 "cells": [
  {
   "cell_type": "markdown",
   "metadata": {
    "toc": true
   },
   "source": [
    "<h1>Table of Contents<span class=\"tocSkip\"></span></h1>\n",
    "<div class=\"toc\" style=\"margin-top: 1em;\"><ul class=\"toc-item\"><li><span><a href=\"#How-to-Run-it-on-SBB-data\" data-toc-modified-id=\"How-to-Run-it-on-SBB-data-1\">How to Run it on SBB data</a></span></li><li><span><a href=\"#Results\" data-toc-modified-id=\"Results-2\">Results</a></span></li></ul></div>"
   ]
  },
  {
   "cell_type": "markdown",
   "metadata": {},
   "source": [
    "# How to Run it on SBB data"
   ]
  },
  {
   "cell_type": "code",
   "execution_count": 1,
   "metadata": {},
   "outputs": [
    {
     "name": "stdout",
     "output_type": "stream",
     "text": [
      "csa loading...\n",
      "csa_utils loading...\n",
      "run_csa_sbb loading...\n"
     ]
    }
   ],
   "source": [
    "from run_csa_sbb import run, all_stations, connections_sbb"
   ]
  },
  {
   "cell_type": "code",
   "execution_count": 6,
   "metadata": {
    "scrolled": true
   },
   "outputs": [
    {
     "data": {
      "application/vnd.jupyter.widget-view+json": {
       "model_id": "86b4eb4de5c54b539d373233b111c869",
       "version_major": 2,
       "version_minor": 0
      },
      "text/plain": [
       "HBox(children=(IntProgress(value=0, max=206029), HTML(value='')))"
      ]
     },
     "metadata": {},
     "output_type": "display_data"
    },
    {
     "name": "stdout",
     "output_type": "stream",
     "text": [
      "\n"
     ]
    }
   ],
   "source": [
    "departure_timestamp = 1515396840\n",
    "\n",
    "csa_sbb = run(\n",
    "    departure_station='Zürich HB',\n",
    "    arrival_station='Zürich, ETH/Universitätsspital',\n",
    "    departure_timestamp = departure_timestamp,\n",
    "    min_certainty = 0.05,\n",
    "    speed = 4,\n",
    "    top_n = 3\n",
    ")"
   ]
  },
  {
   "cell_type": "markdown",
   "metadata": {},
   "source": [
    "# Results"
   ]
  },
  {
   "cell_type": "code",
   "execution_count": 10,
   "metadata": {},
   "outputs": [],
   "source": [
    "import numpy as np\n",
    "import pandas as pd\n",
    "import datetime"
   ]
  },
  {
   "cell_type": "code",
   "execution_count": 13,
   "metadata": {
    "scrolled": false
   },
   "outputs": [
    {
     "name": "stdout",
     "output_type": "stream",
     "text": [
      "\n",
      "Zürich HB -> Zürich, ETH/Universitätsspital\n",
      "\n",
      "\n",
      "FROM               TO                              DURATION  CERTAINTY  TRIP_ID                \n",
      "Zürich HB          Zürich, Haldenegg               5.46      1.0        walking                \n",
      "Zürich, Haldenegg  Zürich, ETH/Universitätsspital  2.0       1.0        85:3849:81666-02006-1  \n",
      "\n"
     ]
    }
   ],
   "source": [
    "np.random.seed(3)\n",
    "\n",
    "for s in np.random.choice(['Zürich, ETH/Universitätsspital'], size = 1):\n",
    "    print()\n",
    "    print('{} -> {}'.format(csa_sbb.dep_station, s))\n",
    "    print()\n",
    "    for i, path in enumerate(csa_sbb.get_paths(s)):\n",
    "        first_non_walking_edges = [i for i, e in enumerate(path.edges()) if e['trip_id'] != 'walking']\n",
    "        start_index = 0 if len(first_non_walking_edges) == 0 else first_non_walking_edges[0]\n",
    "        path_duration = path.edges()[-1]['arrival_ts'] - path.edges()[start_index]['arrival_ts']\n",
    "        path_duration += path.edges()[start_index]['duration']\n",
    "        if start_index > 0:\n",
    "            path_duration += path.edges()[0]['duration']\n",
    "        path_duration = int(path_duration / 60 * 1000) / 1000\n",
    "        path_certainty = int(path.last()['cum_certainty'] * 1000) / 1000\n",
    "        path_starting_time = datetime.datetime.fromtimestamp(path.edges()[start_index]['departure_ts']).strftime('%H:%M')\n",
    "        path_name = \"[#{} at {}] in {} minutes with {} certainty\".format(i+1, path_starting_time, path_duration, path_certainty)\n",
    "        print()\n",
    "        lines = [['FROM', 'TO', 'DURATION', 'CERTAINTY', 'TRIP_ID']]\n",
    "        for e in path.edges():\n",
    "            line = [e['departure_station'], e['arrival_station'], int(e['duration'] / 60 * 100) / 100 , int(e['certainty'] * 100) / 100, e['trip_id']]\n",
    "            line = [str(e) for e in line]\n",
    "            lines.append(line)\n",
    "        col_widths = [max([len(word) for word in row]) + 2 for row in pd.DataFrame(lines).T.values ]  # padding\n",
    "        for row in lines:\n",
    "            print(''.join(word.ljust(col_widths[i]) for i, word in enumerate(row)))\n",
    "        print()"
   ]
  },
  {
   "cell_type": "code",
   "execution_count": null,
   "metadata": {},
   "outputs": [],
   "source": []
  },
  {
   "cell_type": "code",
   "execution_count": 6,
   "metadata": {},
   "outputs": [],
   "source": [
    "from csa import CSA"
   ]
  },
  {
   "cell_type": "code",
   "execution_count": 7,
   "metadata": {},
   "outputs": [
    {
     "name": "stdout",
     "output_type": "stream",
     "text": [
      "The line_profiler extension is already loaded. To reload it, use:\n",
      "  %reload_ext line_profiler\n"
     ]
    }
   ],
   "source": [
    "%load_ext line_profiler"
   ]
  },
  {
   "cell_type": "code",
   "execution_count": 10,
   "metadata": {},
   "outputs": [
    {
     "data": {
      "text/plain": [
       "HBox(children=(IntProgress(value=0, max=206029), HTML(value='')))"
      ]
     },
     "metadata": {},
     "output_type": "display_data"
    },
    {
     "name": "stderr",
     "output_type": "stream",
     "text": [
      "/usr/local/lib/python3.5/dist-packages/tqdm/_monitor.py:89: TqdmSynchronisationWarning: Set changed size during iteration (see https://github.com/tqdm/tqdm/issues/481)\n",
      "  TqdmSynchronisationWarning)\n"
     ]
    },
    {
     "name": "stdout",
     "output_type": "stream",
     "text": [
      "\n"
     ]
    }
   ],
   "source": [
    "%lprun -f CSA.add_connection run(\\\n",
    "    departure_station='Zürich HB',\\\n",
    "    arrival_station='Zürich, Zoo',\\\n",
    "    departure_timestamp = departure_timestamp,\\\n",
    "    min_certainty = 0.05,\\\n",
    "    speed = 5,\\\n",
    "    top_n = 5\\\n",
    ")"
   ]
  },
  {
   "cell_type": "code",
   "execution_count": null,
   "metadata": {},
   "outputs": [],
   "source": []
  }
 ],
 "metadata": {
  "kernelspec": {
   "display_name": "Python 3",
   "language": "python",
   "name": "python3"
  },
  "language_info": {
   "codemirror_mode": {
    "name": "ipython",
    "version": 3
   },
   "file_extension": ".py",
   "mimetype": "text/x-python",
   "name": "python",
   "nbconvert_exporter": "python",
   "pygments_lexer": "ipython3",
   "version": "3.6.5"
  },
  "toc": {
   "nav_menu": {},
   "number_sections": false,
   "sideBar": true,
   "skip_h1_title": false,
   "toc_cell": true,
   "toc_position": {},
   "toc_section_display": "block",
   "toc_window_display": false
  }
 },
 "nbformat": 4,
 "nbformat_minor": 2
}
