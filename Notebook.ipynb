{
 "cells": [
  {
   "cell_type": "code",
   "execution_count": 45,
   "metadata": {
    "collapsed": true
   },
   "outputs": [],
   "source": [
    "import pandas as pd\n",
    "import numpy as np\n",
    "from geopy.distance import distance as geo_dist"
   ]
  },
  {
   "cell_type": "code",
   "execution_count": 2,
   "metadata": {
    "collapsed": true
   },
   "outputs": [],
   "source": [
    "# Extract list of stop from metadata file.\n",
    "with open(\"data/BFKOORD_GEO\") as file:\n",
    "    metadata = file.readlines()\n",
    "    \n",
    "metadata_cleaned = [line.split(\"%\") for line in metadata]\n",
    "metadata_cleaned = [[line[0].split(), line[1][1:-1]] for line in  metadata_cleaned]\n",
    "metadata_cleaned = [[line[0][0], line[0][1], line[0][2], line[0][3], line[1]] for line in metadata_cleaned]\n",
    "\n",
    "metadata_df = pd.DataFrame(metadata_cleaned, columns=[\"StationID\", \"Longitude\", \"Latitude\", \"Height\", \"Remark\"])\n",
    "\n",
    "metadata_df[\"Longitude\"] = pd.to_numeric(metadata_df[\"Longitude\"])\n",
    "metadata_df[\"Latitude\"] = pd.to_numeric(metadata_df[\"Latitude\"])"
   ]
  },
  {
   "cell_type": "code",
   "execution_count": 73,
   "metadata": {},
   "outputs": [
    {
     "data": {
      "text/html": [
       "<div>\n",
       "<style>\n",
       "    .dataframe thead tr:only-child th {\n",
       "        text-align: right;\n",
       "    }\n",
       "\n",
       "    .dataframe thead th {\n",
       "        text-align: left;\n",
       "    }\n",
       "\n",
       "    .dataframe tbody tr th {\n",
       "        vertical-align: top;\n",
       "    }\n",
       "</style>\n",
       "<table border=\"1\" class=\"dataframe\">\n",
       "  <thead>\n",
       "    <tr style=\"text-align: right;\">\n",
       "      <th></th>\n",
       "      <th>StationID</th>\n",
       "      <th>Longitude</th>\n",
       "      <th>Latitude</th>\n",
       "      <th>Height</th>\n",
       "      <th>Remark</th>\n",
       "      <th>dist</th>\n",
       "      <th>dist1</th>\n",
       "    </tr>\n",
       "  </thead>\n",
       "  <tbody>\n",
       "    <tr>\n",
       "      <th>74</th>\n",
       "      <td>0000176</td>\n",
       "      <td>8.521961</td>\n",
       "      <td>47.351679</td>\n",
       "      <td>0</td>\n",
       "      <td>Zimmerberg-Basistunnel</td>\n",
       "      <td>3.251969</td>\n",
       "      <td>3.251969131789274 km</td>\n",
       "    </tr>\n",
       "    <tr>\n",
       "      <th>2084</th>\n",
       "      <td>8502220</td>\n",
       "      <td>8.434713</td>\n",
       "      <td>47.390882</td>\n",
       "      <td>442</td>\n",
       "      <td>Urdorf</td>\n",
       "      <td>8.088858</td>\n",
       "      <td>8.088858133324928 km</td>\n",
       "    </tr>\n",
       "    <tr>\n",
       "      <th>2085</th>\n",
       "      <td>8502221</td>\n",
       "      <td>8.437543</td>\n",
       "      <td>47.357432</td>\n",
       "      <td>488</td>\n",
       "      <td>Birmensdorf ZH</td>\n",
       "      <td>8.089105</td>\n",
       "      <td>8.089104631368896 km</td>\n",
       "    </tr>\n",
       "    <tr>\n",
       "      <th>2086</th>\n",
       "      <td>8502222</td>\n",
       "      <td>8.468175</td>\n",
       "      <td>47.325896</td>\n",
       "      <td>528</td>\n",
       "      <td>Bonstetten-Wettswil</td>\n",
       "      <td>7.961914</td>\n",
       "      <td>7.961913838714972 km</td>\n",
       "    </tr>\n",
       "    <tr>\n",
       "      <th>2092</th>\n",
       "      <td>8502229</td>\n",
       "      <td>8.430330</td>\n",
       "      <td>47.380971</td>\n",
       "      <td>456</td>\n",
       "      <td>Urdorf Weihermatt</td>\n",
       "      <td>8.302117</td>\n",
       "      <td>8.302117210253517 km</td>\n",
       "    </tr>\n",
       "  </tbody>\n",
       "</table>\n",
       "</div>"
      ],
      "text/plain": [
       "     StationID  Longitude   Latitude Height                  Remark      dist  \\\n",
       "74     0000176   8.521961  47.351679      0  Zimmerberg-Basistunnel  3.251969   \n",
       "2084   8502220   8.434713  47.390882    442                  Urdorf  8.088858   \n",
       "2085   8502221   8.437543  47.357432    488          Birmensdorf ZH  8.089105   \n",
       "2086   8502222   8.468175  47.325896    528     Bonstetten-Wettswil  7.961914   \n",
       "2092   8502229   8.430330  47.380971    456       Urdorf Weihermatt  8.302117   \n",
       "\n",
       "                     dist1  \n",
       "74    3.251969131789274 km  \n",
       "2084  8.088858133324928 km  \n",
       "2085  8.089104631368896 km  \n",
       "2086  7.961913838714972 km  \n",
       "2092  8.302117210253517 km  "
      ]
     },
     "execution_count": 73,
     "metadata": {},
     "output_type": "execute_result"
    }
   ],
   "source": [
    "# Retrieve stops near Zurich main station\n",
    "zurichHB = metadata_df[metadata_df.Remark == \"Zürich HB\"]\n",
    "\n",
    "metadata_df[\"dist\"] = metadata_df.apply(lambda x: geo_dist((zurichHB.Latitude.values[0], zurichHB.Longitude.values[0]),\n",
    "                                                            (x.Latitude, x.Longitude)).km, axis=1)\n",
    "zurich_stops_df = metadata_df[metadata_df[\"dist\"] < 10]\n",
    "zurich_stops_df.head()"
   ]
  },
  {
   "cell_type": "code",
   "execution_count": 41,
   "metadata": {},
   "outputs": [
    {
     "name": "stdout",
     "output_type": "stream",
     "text": [
      "2017-11-18istdaten.csv\r"
     ]
    },
    {
     "name": "stderr",
     "output_type": "stream",
     "text": [
      "/home/student/anaconda3/lib/python3.6/site-packages/IPython/core/interactiveshell.py:2698: DtypeWarning: Columns (6,7,8,9) have mixed types. Specify dtype option on import or set low_memory=False.\n",
      "  interactivity=interactivity, compiler=compiler, result=result)\n"
     ]
    },
    {
     "name": "stdout",
     "output_type": "stream",
     "text": [
      "2018-01-16istdaten.csv\r"
     ]
    }
   ],
   "source": [
    "import os\n",
    "\n",
    "zurich_stops_lower_name = zurich_stops_df.Remark.str.lower()\n",
    "for d in os.listdir(\"data/raw\"):\n",
    "    for f in os.listdir(os.path.join(\"data/raw\", d)):\n",
    "        print(f, end=\"\\r\")\n",
    "        data_df = pd.read_csv(os.path.join(\"data/raw\", os.path.join(d, f)), sep=\";\").dropna(subset = [\"HALTESTELLEN_NAME\"])\n",
    "        filtered_data = data_df[data_df.HALTESTELLEN_NAME.str.lower().isin(zurich_stops_lower_name)]    \n",
    "        filtered_data.to_csv(os.path.join(\"data/filtered\", os.path.join(d, f)), sep=\";\", index=False)"
   ]
  },
  {
   "cell_type": "code",
   "execution_count": null,
   "metadata": {
    "collapsed": true
   },
   "outputs": [],
   "source": []
  }
 ],
 "metadata": {
  "kernelspec": {
   "display_name": "Python 3",
   "language": "python",
   "name": "python3"
  },
  "language_info": {
   "codemirror_mode": {
    "name": "ipython",
    "version": 3
   },
   "file_extension": ".py",
   "mimetype": "text/x-python",
   "name": "python",
   "nbconvert_exporter": "python",
   "pygments_lexer": "ipython3",
   "version": "3.6.3"
  }
 },
 "nbformat": 4,
 "nbformat_minor": 2
}
